{
 "cells": [
  {
   "cell_type": "markdown",
   "metadata": {},
   "source": [
    "# Sentiment Analysis\n",
    "\n",
    "## Using XGBoost in SageMaker\n",
    "\n",
    "_Deep Learning Nanodegree Program | Deployment_\n",
    "\n",
    "---\n",
    "\n",
    "As our first example of using Amazon's SageMaker service we will construct a random tree model to predict the sentiment of a movie review. You may have seen a version of this example in a pervious lesson although it would have been done using the sklearn package. Instead, we will be using the XGBoost package as it is provided to us by Amazon.\n",
    "\n",
    "## Instructions\n",
    "\n",
    "Some template code has already been provided for you, and you will need to implement additional functionality to successfully complete this notebook. You will not need to modify the included code beyond what is requested. Sections that begin with '**TODO**' in the header indicate that you need to complete or implement some portion within them. Instructions will be provided for each section and the specifics of the implementation are marked in the code block with a `# TODO: ...` comment. Please be sure to read the instructions carefully!\n",
    "\n",
    "In addition to implementing code, there may be questions for you to answer which relate to the task and your implementation. Each section where you will answer a question is preceded by a '**Question:**' header. Carefully read each question and provide your answer below the '**Answer:**' header by editing the Markdown cell.\n",
    "\n",
    "> **Note**: Code and Markdown cells can be executed using the **Shift+Enter** keyboard shortcut. In addition, a cell can be edited by typically clicking it (double-click for Markdown cells) or by pressing **Enter** while it is highlighted."
   ]
  },
  {
   "cell_type": "markdown",
   "metadata": {},
   "source": [
    "## Step 1: Downloading the data\n",
    "\n",
    "The dataset we are going to use is very popular among researchers in Natural Language Processing, usually referred to as the [IMDb dataset](http://ai.stanford.edu/~amaas/data/sentiment/). It consists of movie reviews from the website [imdb.com](http://www.imdb.com/), each labeled as either '**pos**itive', if the reviewer enjoyed the film, or '**neg**ative' otherwise.\n",
    "\n",
    "> Maas, Andrew L., et al. [Learning Word Vectors for Sentiment Analysis](http://ai.stanford.edu/~amaas/data/sentiment/). In _Proceedings of the 49th Annual Meeting of the Association for Computational Linguistics: Human Language Technologies_. Association for Computational Linguistics, 2011.\n",
    "\n",
    "We begin by using some Jupyter Notebook magic to download and extract the dataset."
   ]
  },
  {
   "cell_type": "code",
   "execution_count": 7,
   "metadata": {},
   "outputs": [
    {
     "name": "stdout",
     "output_type": "stream",
     "text": [
      "mkdir: cannot create directory ‘../data’: File exists\n",
      "--2019-09-26 01:58:35--  http://ai.stanford.edu/~amaas/data/sentiment/aclImdb_v1.tar.gz\n",
      "Resolving ai.stanford.edu (ai.stanford.edu)... 171.64.68.10\n",
      "Connecting to ai.stanford.edu (ai.stanford.edu)|171.64.68.10|:80... connected.\n",
      "HTTP request sent, awaiting response... 200 OK\n",
      "Length: 84125825 (80M) [application/x-gzip]\n",
      "Saving to: ‘../data/aclImdb_v1.tar.gz’\n",
      "\n",
      "../data/aclImdb_v1. 100%[===================>]  80.23M  56.3MB/s    in 1.4s    \n",
      "\n",
      "2019-09-26 01:58:37 (56.3 MB/s) - ‘../data/aclImdb_v1.tar.gz’ saved [84125825/84125825]\n",
      "\n"
     ]
    }
   ],
   "source": [
    "%mkdir ../data\n",
    "!wget -O ../data/aclImdb_v1.tar.gz http://ai.stanford.edu/~amaas/data/sentiment/aclImdb_v1.tar.gz\n",
    "!tar -zxf ../data/aclImdb_v1.tar.gz -C ../data"
   ]
  },
  {
   "cell_type": "markdown",
   "metadata": {},
   "source": [
    "## Step 2: Preparing the data\n",
    "\n",
    "The data we have downloaded is split into various files, each of which contains a single review. It will be much easier going forward if we combine these individual files into two large files, one for training and one for testing."
   ]
  },
  {
   "cell_type": "code",
   "execution_count": 8,
   "metadata": {},
   "outputs": [],
   "source": [
    "import os\n",
    "import glob\n",
    "\n",
    "def read_imdb_data(data_dir='../data/aclImdb'):\n",
    "    data = {}\n",
    "    labels = {}\n",
    "    \n",
    "    for data_type in ['train', 'test']:\n",
    "        data[data_type] = {}\n",
    "        labels[data_type] = {}\n",
    "        \n",
    "        for sentiment in ['pos', 'neg']:\n",
    "            data[data_type][sentiment] = []\n",
    "            labels[data_type][sentiment] = []\n",
    "            \n",
    "            path = os.path.join(data_dir, data_type, sentiment, '*.txt')\n",
    "            files = glob.glob(path)\n",
    "            \n",
    "            for f in files:\n",
    "                with open(f) as review:\n",
    "                    data[data_type][sentiment].append(review.read())\n",
    "                    # Here we represent a positive review by '1' and a negative review by '0'\n",
    "                    labels[data_type][sentiment].append(1 if sentiment == 'pos' else 0)\n",
    "                    \n",
    "            assert len(data[data_type][sentiment]) == len(labels[data_type][sentiment]), \\\n",
    "                    \"{}/{} data size does not match labels size\".format(data_type, sentiment)\n",
    "                \n",
    "    return data, labels"
   ]
  },
  {
   "cell_type": "code",
   "execution_count": 9,
   "metadata": {},
   "outputs": [
    {
     "name": "stdout",
     "output_type": "stream",
     "text": [
      "IMDB reviews: train = 12500 pos / 12500 neg, test = 12500 pos / 12500 neg\n"
     ]
    }
   ],
   "source": [
    "data, labels = read_imdb_data()\n",
    "print(\"IMDB reviews: train = {} pos / {} neg, test = {} pos / {} neg\".format(\n",
    "            len(data['train']['pos']), len(data['train']['neg']),\n",
    "            len(data['test']['pos']), len(data['test']['neg'])))"
   ]
  },
  {
   "cell_type": "code",
   "execution_count": 10,
   "metadata": {},
   "outputs": [],
   "source": [
    "from sklearn.utils import shuffle\n",
    "\n",
    "def prepare_imdb_data(data, labels):\n",
    "    \"\"\"Prepare training and test sets from IMDb movie reviews.\"\"\"\n",
    "    \n",
    "    #Combine positive and negative reviews and labels\n",
    "    data_train = data['train']['pos'] + data['train']['neg']\n",
    "    data_test = data['test']['pos'] + data['test']['neg']\n",
    "    labels_train = labels['train']['pos'] + labels['train']['neg']\n",
    "    labels_test = labels['test']['pos'] + labels['test']['neg']\n",
    "    \n",
    "    #Shuffle reviews and corresponding labels within training and test sets\n",
    "    data_train, labels_train = shuffle(data_train, labels_train)\n",
    "    data_test, labels_test = shuffle(data_test, labels_test)\n",
    "    \n",
    "    # Return a unified training data, test data, training labels, test labets\n",
    "    return data_train, data_test, labels_train, labels_test"
   ]
  },
  {
   "cell_type": "code",
   "execution_count": 11,
   "metadata": {},
   "outputs": [
    {
     "name": "stdout",
     "output_type": "stream",
     "text": [
      "IMDb reviews (combined): train = 25000, test = 25000\n"
     ]
    }
   ],
   "source": [
    "train_X, test_X, train_y, test_y = prepare_imdb_data(data, labels)\n",
    "print(\"IMDb reviews (combined): train = {}, test = {}\".format(len(train_X), len(test_X)))"
   ]
  },
  {
   "cell_type": "code",
   "execution_count": 12,
   "metadata": {},
   "outputs": [
    {
     "data": {
      "text/plain": [
       "'Contrary to most other commentators, I deeply hate this series.<br /><br />It starts out looking interesting, with mysterious aliens and giant robots, and I kept my hopes up until the very last episode. At the end of it, I still didn\\'t understand what the alien attacks were all about (maybe I missed something, who knows?), and realized that I had sat through 26 episodes consisting mainly of the characters\\' own self-hating, selfishness and self-pitying. It actually flips between alien/robot fights and these dark, depressing blinking-on-and-off scenes where one or more characters can just say or shout \"I hate me/you/it\" 10-12 times in a row.<br /><br />I can\\'t really see either Shinji or Asuka (two of the main characters) showing growth or change. (Nor can I see any of the other characters learning or growing either, for that matter.) I wanted to kick them and tell them to get a bloody life during the first episodes, and the feeling didn\\'t change during the last ones. Shinji truly possesses the kind of helpless hopelessness that makes people angry rather than charitable, and Asuka is such an infuriating know-it-all that I wanted to smash the TV screen every time she came into view. Oh, and more than anyone else, these two hate everything, and say it veeeeeeeery often.<br /><br />I\\'m otherwise a big fan of animé and manga, and never before have I disliked one so much. I read that the series creator/writer wrote this while suffering from a depression, and I can believe that; it made me depressed to watch it. Is that the aim of this series? I\\'m honestly asking. Is it designed to make the viewer confused and annoyed? And if suffering from a depression, why just not write a book or biography about it, instead of mixing it up with aliens and mecha\\'s? This alien war plot, as far as I could tell, lead to absolutely nowhere.<br /><br />Finally, since I\\'m truly fascinated by how many people claim to love this patchwork of dead-end plots, I can\\'t help but wonder how many of them actually find it good, and how many say they do because they\\'ve been told it is.'"
      ]
     },
     "execution_count": 12,
     "metadata": {},
     "output_type": "execute_result"
    }
   ],
   "source": [
    "train_X[100]"
   ]
  },
  {
   "cell_type": "markdown",
   "metadata": {},
   "source": [
    "## Step 3: Processing the data\n",
    "\n",
    "Now that we have our training and testing datasets merged and ready to use, we need to start processing the raw data into something that will be useable by our machine learning algorithm. To begin with, we remove any html formatting that may appear in the reviews and perform some standard natural language processing in order to homogenize the data."
   ]
  },
  {
   "cell_type": "code",
   "execution_count": 13,
   "metadata": {},
   "outputs": [
    {
     "name": "stdout",
     "output_type": "stream",
     "text": [
      "[nltk_data] Downloading package stopwords to\n",
      "[nltk_data]     /home/ec2-user/nltk_data...\n",
      "[nltk_data]   Unzipping corpora/stopwords.zip.\n"
     ]
    }
   ],
   "source": [
    "import nltk\n",
    "nltk.download(\"stopwords\")\n",
    "from nltk.corpus import stopwords\n",
    "from nltk.stem.porter import *\n",
    "stemmer = PorterStemmer()"
   ]
  },
  {
   "cell_type": "code",
   "execution_count": 14,
   "metadata": {},
   "outputs": [],
   "source": [
    "import re\n",
    "from bs4 import BeautifulSoup\n",
    "\n",
    "def review_to_words(review):\n",
    "    text = BeautifulSoup(review, \"html.parser\").get_text() # Remove HTML tags\n",
    "    text = re.sub(r\"[^a-zA-Z0-9]\", \" \", text.lower()) # Convert to lower case\n",
    "    words = text.split() # Split string into words\n",
    "    words = [w for w in words if w not in stopwords.words(\"english\")] # Remove stopwords\n",
    "    words = [PorterStemmer().stem(w) for w in words] # stem\n",
    "    \n",
    "    return words"
   ]
  },
  {
   "cell_type": "code",
   "execution_count": 15,
   "metadata": {},
   "outputs": [],
   "source": [
    "import pickle\n",
    "\n",
    "cache_dir = os.path.join(\"../cache\", \"sentiment_analysis\")  # where to store cache files\n",
    "os.makedirs(cache_dir, exist_ok=True)  # ensure cache directory exists\n",
    "\n",
    "def preprocess_data(data_train, data_test, labels_train, labels_test,\n",
    "                    cache_dir=cache_dir, cache_file=\"preprocessed_data.pkl\"):\n",
    "    \"\"\"Convert each review to words; read from cache if available.\"\"\"\n",
    "\n",
    "    # If cache_file is not None, try to read from it first\n",
    "    cache_data = None\n",
    "    if cache_file is not None:\n",
    "        try:\n",
    "            with open(os.path.join(cache_dir, cache_file), \"rb\") as f:\n",
    "                cache_data = pickle.load(f)\n",
    "            print(\"Read preprocessed data from cache file:\", cache_file)\n",
    "        except:\n",
    "            pass  # unable to read from cache, but that's okay\n",
    "    \n",
    "    # If cache is missing, then do the heavy lifting\n",
    "    if cache_data is None:\n",
    "        # Preprocess training and test data to obtain words for each review\n",
    "        #words_train = list(map(review_to_words, data_train))\n",
    "        #words_test = list(map(review_to_words, data_test))\n",
    "        words_train = [review_to_words(review) for review in data_train]\n",
    "        words_test = [review_to_words(review) for review in data_test]\n",
    "        \n",
    "        # Write to cache file for future runs\n",
    "        if cache_file is not None:\n",
    "            cache_data = dict(words_train=words_train, words_test=words_test,\n",
    "                              labels_train=labels_train, labels_test=labels_test)\n",
    "            with open(os.path.join(cache_dir, cache_file), \"wb\") as f:\n",
    "                pickle.dump(cache_data, f)\n",
    "            print(\"Wrote preprocessed data to cache file:\", cache_file)\n",
    "    else:\n",
    "        # Unpack data loaded from cache file\n",
    "        words_train, words_test, labels_train, labels_test = (cache_data['words_train'],\n",
    "                cache_data['words_test'], cache_data['labels_train'], cache_data['labels_test'])\n",
    "    \n",
    "    return words_train, words_test, labels_train, labels_test"
   ]
  },
  {
   "cell_type": "code",
   "execution_count": 16,
   "metadata": {},
   "outputs": [
    {
     "name": "stdout",
     "output_type": "stream",
     "text": [
      "Read preprocessed data from cache file: preprocessed_data.pkl\n"
     ]
    }
   ],
   "source": [
    "# Preprocess data\n",
    "train_X, test_X, train_y, test_y = preprocess_data(train_X, test_X, train_y, test_y)"
   ]
  },
  {
   "cell_type": "markdown",
   "metadata": {},
   "source": [
    "### Extract Bag-of-Words features\n",
    "\n",
    "For the model we will be implementing, rather than using the reviews directly, we are going to transform each review into a Bag-of-Words feature representation. Keep in mind that 'in the wild' we will only have access to the training set so our transformer can only use the training set to construct a representation."
   ]
  },
  {
   "cell_type": "code",
   "execution_count": 17,
   "metadata": {},
   "outputs": [],
   "source": [
    "import numpy as np\n",
    "from sklearn.feature_extraction.text import CountVectorizer\n",
    "from sklearn.externals import joblib\n",
    "# joblib is an enhanced version of pickle that is more efficient for storing NumPy arrays\n",
    "\n",
    "def extract_BoW_features(words_train, words_test, vocabulary_size=5000,\n",
    "                         cache_dir=cache_dir, cache_file=\"bow_features.pkl\"):\n",
    "    \"\"\"Extract Bag-of-Words for a given set of documents, already preprocessed into words.\"\"\"\n",
    "    \n",
    "    # If cache_file is not None, try to read from it first\n",
    "    cache_data = None\n",
    "    if cache_file is not None:\n",
    "        try:\n",
    "            with open(os.path.join(cache_dir, cache_file), \"rb\") as f:\n",
    "                cache_data = joblib.load(f)\n",
    "            print(\"Read features from cache file:\", cache_file)\n",
    "        except:\n",
    "            pass  # unable to read from cache, but that's okay\n",
    "    \n",
    "    # If cache is missing, then do the heavy lifting\n",
    "    if cache_data is None:\n",
    "        # Fit a vectorizer to training documents and use it to transform them\n",
    "        # NOTE: Training documents have already been preprocessed and tokenized into words;\n",
    "        #       pass in dummy functions to skip those steps, e.g. preprocessor=lambda x: x\n",
    "        vectorizer = CountVectorizer(max_features=vocabulary_size,\n",
    "                preprocessor=lambda x: x, tokenizer=lambda x: x)  # already preprocessed\n",
    "        features_train = vectorizer.fit_transform(words_train).toarray()\n",
    "\n",
    "        # Apply the same vectorizer to transform the test documents (ignore unknown words)\n",
    "        features_test = vectorizer.transform(words_test).toarray()\n",
    "        \n",
    "        # NOTE: Remember to convert the features using .toarray() for a compact representation\n",
    "        \n",
    "        # Write to cache file for future runs (store vocabulary as well)\n",
    "        if cache_file is not None:\n",
    "            vocabulary = vectorizer.vocabulary_\n",
    "            cache_data = dict(features_train=features_train, features_test=features_test,\n",
    "                             vocabulary=vocabulary)\n",
    "            with open(os.path.join(cache_dir, cache_file), \"wb\") as f:\n",
    "                joblib.dump(cache_data, f)\n",
    "            print(\"Wrote features to cache file:\", cache_file)\n",
    "    else:\n",
    "        # Unpack data loaded from cache file\n",
    "        features_train, features_test, vocabulary = (cache_data['features_train'],\n",
    "                cache_data['features_test'], cache_data['vocabulary'])\n",
    "    \n",
    "    # Return both the extracted features as well as the vocabulary\n",
    "    return features_train, features_test, vocabulary"
   ]
  },
  {
   "cell_type": "code",
   "execution_count": 18,
   "metadata": {},
   "outputs": [
    {
     "name": "stdout",
     "output_type": "stream",
     "text": [
      "Read features from cache file: bow_features.pkl\n"
     ]
    }
   ],
   "source": [
    "# Extract Bag of Words features for both training and test datasets\n",
    "train_X, test_X, vocabulary = extract_BoW_features(train_X, test_X)"
   ]
  },
  {
   "cell_type": "markdown",
   "metadata": {},
   "source": [
    "## Step 4: Classification using XGBoost\n",
    "\n",
    "Now that we have created the feature representation of our training (and testing) data, it is time to start setting up and using the XGBoost classifier provided by SageMaker.\n",
    "\n",
    "### (TODO) Writing the dataset\n",
    "\n",
    "The XGBoost classifier that we will be using requires the dataset to be written to a file and stored using Amazon S3. To do this, we will start by splitting the training dataset into two parts, the data we will train the model with and a validation set. Then, we will write those datasets to a file and upload the files to S3. In addition, we will write the test set input to a file and upload the file to S3. This is so that we can use SageMakers Batch Transform functionality to test our model once we've fit it."
   ]
  },
  {
   "cell_type": "code",
   "execution_count": 19,
   "metadata": {},
   "outputs": [],
   "source": [
    "import pandas as pd\n",
    "\n",
    "# TODO: Split the train_X and train_y arrays into the DataFrames val_X, train_X and val_y, train_y. Make sure that\n",
    "#       val_X and val_y contain 10 000 entires while train_X and train_y contain the remaining 15 000 entries.\n",
    "train_X, test_X, train_y, test_y\n",
    "\n",
    "val_X = pd.DataFrame(train_X[:10000])\n",
    "train_X = pd.DataFrame(train_X[10000:])\n",
    "\n",
    "val_y = pd.DataFrame(train_y[:10000])\n",
    "train_y = pd.DataFrame(train_y[10000:])\n"
   ]
  },
  {
   "cell_type": "markdown",
   "metadata": {},
   "source": [
    "The documentation for the XGBoost algorithm in SageMaker requires that the saved datasets should contain no headers or index and that for the training and validation data, the label should occur first for each sample.\n",
    "\n",
    "For more information about this and other algorithms, the SageMaker developer documentation can be found on __[Amazon's website.](https://docs.aws.amazon.com/sagemaker/latest/dg/)__"
   ]
  },
  {
   "cell_type": "code",
   "execution_count": 20,
   "metadata": {},
   "outputs": [],
   "source": [
    "# First we make sure that the local directory in which we'd like to store the training and validation csv files exists.\n",
    "data_dir = '../data/xgboost'\n",
    "if not os.path.exists(data_dir):\n",
    "    os.makedirs(data_dir)"
   ]
  },
  {
   "cell_type": "code",
   "execution_count": 21,
   "metadata": {},
   "outputs": [],
   "source": [
    "# First, save the test data to test.csv in the data_dir directory. Note that we do not save the associated ground truth\n",
    "# labels, instead we will use them later to compare with our model output.\n",
    "\n",
    "pd.DataFrame(test_X).to_csv(os.path.join(data_dir, 'test.csv'), header=False, index=False)\n",
    "\n",
    "# TODO: Save the training and validation data to train.csv and validation.csv in the data_dir directory.\n",
    "#       Make sure that the files you create are in the correct format.\n",
    "pd.concat([val_y, val_X], axis=1).to_csv(os.path.join(data_dir, 'validation.csv'), header=False, index=False)\n",
    "pd.concat([train_y, train_X], axis=1).to_csv(os.path.join(data_dir, 'train.csv'), header=False, index=False)\n"
   ]
  },
  {
   "cell_type": "code",
   "execution_count": 22,
   "metadata": {},
   "outputs": [],
   "source": [
    "# To save a bit of memory we can set text_X, train_X, val_X, train_y and val_y to None.\n",
    "\n",
    "test_X = train_X = val_X = train_y = val_y = None"
   ]
  },
  {
   "cell_type": "markdown",
   "metadata": {},
   "source": [
    "### (TODO) Uploading Training / Validation files to S3\n",
    "\n",
    "Amazon's S3 service allows us to store files that can be access by both the built-in training models such as the XGBoost model we will be using as well as custom models such as the one we will see a little later.\n",
    "\n",
    "For this, and most other tasks we will be doing using SageMaker, there are two methods we could use. The first is to use the low level functionality of SageMaker which requires knowing each of the objects involved in the SageMaker environment. The second is to use the high level functionality in which certain choices have been made on the user's behalf. The low level approach benefits from allowing the user a great deal of flexibility while the high level approach makes development much quicker. For our purposes we will opt to use the high level approach although using the low-level approach is certainly an option.\n",
    "\n",
    "Recall the method `upload_data()` which is a member of object representing our current SageMaker session. What this method does is upload the data to the default bucket (which is created if it does not exist) into the path described by the key_prefix variable. To see this for yourself, once you have uploaded the data files, go to the S3 console and look to see where the files have been uploaded.\n",
    "\n",
    "For additional resources, see the __[SageMaker API documentation](http://sagemaker.readthedocs.io/en/latest/)__ and in addition the __[SageMaker Developer Guide.](https://docs.aws.amazon.com/sagemaker/latest/dg/)__"
   ]
  },
  {
   "cell_type": "code",
   "execution_count": 23,
   "metadata": {},
   "outputs": [],
   "source": [
    "import sagemaker\n",
    "\n",
    "session = sagemaker.Session() # Store the current SageMaker session\n",
    "\n",
    "# S3 prefix (which folder will we use)\n",
    "prefix = 'sentiment-xgboost'\n",
    "\n",
    "# TODO: Upload the test.csv, train.csv and validation.csv files which are contained in data_dir to S3 using sess.upload_data().\n",
    "test_location = None\n",
    "val_location = None\n",
    "train_location = None\n",
    "\n",
    "test_location = session.upload_data(os.path.join(data_dir, 'test.csv'), key_prefix=prefix)\n",
    "val_location = session.upload_data(os.path.join(data_dir, 'validation.csv'), key_prefix=prefix)\n",
    "train_location = session.upload_data(os.path.join(data_dir, 'train.csv'), key_prefix=prefix)\n",
    "\n"
   ]
  },
  {
   "cell_type": "markdown",
   "metadata": {},
   "source": [
    "### (TODO) Creating the XGBoost model\n",
    "\n",
    "Now that the data has been uploaded it is time to create the XGBoost model. To begin with, we need to do some setup. At this point it is worth discussing what a model is in SageMaker. It is easiest to think of a model of comprising three different objects in the SageMaker ecosystem, which interact with one another.\n",
    "\n",
    "- Model Artifacts\n",
    "- Training Code (Container)\n",
    "- Inference Code (Container)\n",
    "\n",
    "The Model Artifacts are what you might think of as the actual model itself. For example, if you were building a neural network, the model artifacts would be the weights of the various layers. In our case, for an XGBoost model, the artifacts are the actual trees that are created during training.\n",
    "\n",
    "The other two objects, the training code and the inference code are then used the manipulate the training artifacts. More precisely, the training code uses the training data that is provided and creates the model artifacts, while the inference code uses the model artifacts to make predictions on new data.\n",
    "\n",
    "The way that SageMaker runs the training and inference code is by making use of Docker containers. For now, think of a container as being a way of packaging code up so that dependencies aren't an issue."
   ]
  },
  {
   "cell_type": "code",
   "execution_count": 24,
   "metadata": {},
   "outputs": [],
   "source": [
    "from sagemaker import get_execution_role\n",
    "\n",
    "# Our current execution role is require when creating the model as the training\n",
    "# and inference code will need to access the model artifacts.\n",
    "role = get_execution_role()"
   ]
  },
  {
   "cell_type": "code",
   "execution_count": 25,
   "metadata": {},
   "outputs": [
    {
     "name": "stderr",
     "output_type": "stream",
     "text": [
      "WARNING:root:There is a more up to date SageMaker XGBoost image.To use the newer image, please set 'repo_version'='0.90-1. For example:\n",
      "\tget_image_uri(region, 'xgboost', '0.90-1').\n"
     ]
    }
   ],
   "source": [
    "# We need to retrieve the location of the container which is provided by Amazon for using XGBoost.\n",
    "# As a matter of convenience, the training and inference code both use the same container.\n",
    "from sagemaker.amazon.amazon_estimator import get_image_uri\n",
    "\n",
    "container = get_image_uri(session.boto_region_name, 'xgboost')"
   ]
  },
  {
   "cell_type": "code",
   "execution_count": 26,
   "metadata": {},
   "outputs": [],
   "source": [
    "# TODO: Create a SageMaker estimator using the container location determined in the previous cell.\n",
    "#       It is recommended that you use a single training instance of type ml.m4.xlarge. It is also\n",
    "#       recommended that you use 's3://{}/{}/output'.format(session.default_bucket(), prefix) as the\n",
    "#       output path.\n",
    "\n",
    "xgb = None\n",
    "\n",
    "xgb = sagemaker.estimator.Estimator(container,\n",
    "                                    role,\n",
    "                                    train_instance_count=1,\n",
    "                                    train_instance_type='ml.m4.xlarge',\n",
    "                                    output_path='s3://{}/{}/output'.format(session.default_bucket(), prefix),\n",
    "                                    sagemaker_session=session)\n",
    "\n",
    "\n",
    "# TODO: Set the XGBoost hyperparameters in the xgb object. Don't forget that in this case we have a binary\n",
    "#       label so we should be using the 'binary:logistic' objective.\n",
    "\n",
    "xgb.set_hyperparameters(max_depth=5,\n",
    "                        eta=0.2,\n",
    "                        gamma=4,\n",
    "                        min_child_weight=6,\n",
    "                        subsample=0.8,\n",
    "                        silent=0,\n",
    "                        objective='binary:logistic',\n",
    "                        early_stopping_rounds=10,\n",
    "                        num_round=500)\n"
   ]
  },
  {
   "cell_type": "markdown",
   "metadata": {},
   "source": [
    "### Fit the XGBoost model\n",
    "\n",
    "Now that our model has been set up we simply need to attach the training and validation datasets and then ask SageMaker to set up the computation."
   ]
  },
  {
   "cell_type": "code",
   "execution_count": 27,
   "metadata": {},
   "outputs": [],
   "source": [
    "s3_input_train = sagemaker.s3_input(s3_data=train_location, content_type='csv')\n",
    "s3_input_validation = sagemaker.s3_input(s3_data=val_location, content_type='csv')"
   ]
  },
  {
   "cell_type": "code",
   "execution_count": 28,
   "metadata": {},
   "outputs": [
    {
     "name": "stdout",
     "output_type": "stream",
     "text": [
      "2019-09-26 02:04:02 Starting - Starting the training job...\n",
      "2019-09-26 02:04:07 Starting - Launching requested ML instances......\n",
      "2019-09-26 02:05:10 Starting - Preparing the instances for training......\n",
      "2019-09-26 02:06:06 Downloading - Downloading input data...\n",
      "2019-09-26 02:07:01 Training - Training image download completed. Training in progress..\u001b[31mArguments: train\u001b[0m\n",
      "\u001b[31m[2019-09-26:02:07:02:INFO] Running standalone xgboost training.\u001b[0m\n",
      "\u001b[31m[2019-09-26:02:07:02:INFO] File size need to be processed in the node: 238.47mb. Available memory size in the node: 8593.04mb\u001b[0m\n",
      "\u001b[31m[2019-09-26:02:07:02:INFO] Determined delimiter of CSV input is ','\u001b[0m\n",
      "\u001b[31m[02:07:02] S3DistributionType set as FullyReplicated\u001b[0m\n",
      "\u001b[31m[02:07:04] 15000x5000 matrix with 75000000 entries loaded from /opt/ml/input/data/train?format=csv&label_column=0&delimiter=,\u001b[0m\n",
      "\u001b[31m[2019-09-26:02:07:04:INFO] Determined delimiter of CSV input is ','\u001b[0m\n",
      "\u001b[31m[02:07:04] S3DistributionType set as FullyReplicated\u001b[0m\n",
      "\u001b[31m[02:07:05] 10000x5000 matrix with 50000000 entries loaded from /opt/ml/input/data/validation?format=csv&label_column=0&delimiter=,\u001b[0m\n",
      "\u001b[31m[02:07:08] src/tree/updater_prune.cc:74: tree pruning end, 1 roots, 40 extra nodes, 8 pruned nodes, max_depth=5\u001b[0m\n",
      "\u001b[31m[0]#011train-error:0.2962#011validation-error:0.3054\u001b[0m\n",
      "\u001b[31mMultiple eval metrics have been passed: 'validation-error' will be used for early stopping.\n",
      "\u001b[0m\n",
      "\u001b[31mWill train until validation-error hasn't improved in 10 rounds.\u001b[0m\n",
      "\u001b[31m[02:07:09] src/tree/updater_prune.cc:74: tree pruning end, 1 roots, 40 extra nodes, 10 pruned nodes, max_depth=5\u001b[0m\n",
      "\u001b[31m[1]#011train-error:0.279667#011validation-error:0.2889\u001b[0m\n",
      "\u001b[31m[02:07:11] src/tree/updater_prune.cc:74: tree pruning end, 1 roots, 32 extra nodes, 4 pruned nodes, max_depth=5\u001b[0m\n",
      "\u001b[31m[2]#011train-error:0.277067#011validation-error:0.2856\u001b[0m\n",
      "\u001b[31m[02:07:13] src/tree/updater_prune.cc:74: tree pruning end, 1 roots, 44 extra nodes, 4 pruned nodes, max_depth=5\u001b[0m\n",
      "\u001b[31m[3]#011train-error:0.270133#011validation-error:0.2785\u001b[0m\n",
      "\u001b[31m[02:07:14] src/tree/updater_prune.cc:74: tree pruning end, 1 roots, 34 extra nodes, 2 pruned nodes, max_depth=5\u001b[0m\n",
      "\u001b[31m[4]#011train-error:0.266667#011validation-error:0.2765\u001b[0m\n",
      "\u001b[31m[02:07:15] src/tree/updater_prune.cc:74: tree pruning end, 1 roots, 36 extra nodes, 6 pruned nodes, max_depth=5\u001b[0m\n",
      "\u001b[31m[5]#011train-error:0.253867#011validation-error:0.2668\u001b[0m\n",
      "\u001b[31m[02:07:16] src/tree/updater_prune.cc:74: tree pruning end, 1 roots, 36 extra nodes, 12 pruned nodes, max_depth=5\u001b[0m\n",
      "\u001b[31m[6]#011train-error:0.2452#011validation-error:0.2606\u001b[0m\n",
      "\u001b[31m[02:07:18] src/tree/updater_prune.cc:74: tree pruning end, 1 roots, 28 extra nodes, 10 pruned nodes, max_depth=5\u001b[0m\n",
      "\u001b[31m[7]#011train-error:0.237067#011validation-error:0.2521\u001b[0m\n",
      "\u001b[31m[02:07:19] src/tree/updater_prune.cc:74: tree pruning end, 1 roots, 26 extra nodes, 6 pruned nodes, max_depth=5\u001b[0m\n",
      "\u001b[31m[8]#011train-error:0.232867#011validation-error:0.2457\u001b[0m\n",
      "\u001b[31m[02:07:20] src/tree/updater_prune.cc:74: tree pruning end, 1 roots, 30 extra nodes, 6 pruned nodes, max_depth=5\u001b[0m\n",
      "\u001b[31m[9]#011train-error:0.2254#011validation-error:0.2423\u001b[0m\n",
      "\u001b[31m[02:07:21] src/tree/updater_prune.cc:74: tree pruning end, 1 roots, 30 extra nodes, 8 pruned nodes, max_depth=5\u001b[0m\n",
      "\u001b[31m[10]#011train-error:0.2208#011validation-error:0.2364\u001b[0m\n",
      "\u001b[31m[02:07:23] src/tree/updater_prune.cc:74: tree pruning end, 1 roots, 32 extra nodes, 2 pruned nodes, max_depth=5\u001b[0m\n",
      "\u001b[31m[11]#011train-error:0.220133#011validation-error:0.2343\u001b[0m\n",
      "\u001b[31m[02:07:24] src/tree/updater_prune.cc:74: tree pruning end, 1 roots, 30 extra nodes, 4 pruned nodes, max_depth=5\u001b[0m\n",
      "\u001b[31m[12]#011train-error:0.2148#011validation-error:0.2298\u001b[0m\n",
      "\u001b[31m[02:07:25] src/tree/updater_prune.cc:74: tree pruning end, 1 roots, 38 extra nodes, 2 pruned nodes, max_depth=5\u001b[0m\n",
      "\u001b[31m[13]#011train-error:0.210467#011validation-error:0.2263\u001b[0m\n",
      "\u001b[31m[02:07:26] src/tree/updater_prune.cc:74: tree pruning end, 1 roots, 32 extra nodes, 10 pruned nodes, max_depth=5\u001b[0m\n",
      "\u001b[31m[14]#011train-error:0.207333#011validation-error:0.222\u001b[0m\n",
      "\u001b[31m[02:07:28] src/tree/updater_prune.cc:74: tree pruning end, 1 roots, 26 extra nodes, 8 pruned nodes, max_depth=5\u001b[0m\n",
      "\u001b[31m[15]#011train-error:0.203667#011validation-error:0.2179\u001b[0m\n",
      "\u001b[31m[02:07:29] src/tree/updater_prune.cc:74: tree pruning end, 1 roots, 34 extra nodes, 0 pruned nodes, max_depth=5\u001b[0m\n",
      "\u001b[31m[16]#011train-error:0.198733#011validation-error:0.2157\u001b[0m\n",
      "\u001b[31m[02:07:30] src/tree/updater_prune.cc:74: tree pruning end, 1 roots, 30 extra nodes, 12 pruned nodes, max_depth=5\u001b[0m\n",
      "\u001b[31m[17]#011train-error:0.194#011validation-error:0.2127\u001b[0m\n",
      "\u001b[31m[02:07:31] src/tree/updater_prune.cc:74: tree pruning end, 1 roots, 32 extra nodes, 8 pruned nodes, max_depth=5\u001b[0m\n",
      "\u001b[31m[18]#011train-error:0.189533#011validation-error:0.2076\u001b[0m\n",
      "\u001b[31m[02:07:32] src/tree/updater_prune.cc:74: tree pruning end, 1 roots, 18 extra nodes, 14 pruned nodes, max_depth=5\u001b[0m\n",
      "\u001b[31m[19]#011train-error:0.187467#011validation-error:0.2067\u001b[0m\n",
      "\u001b[31m[02:07:34] src/tree/updater_prune.cc:74: tree pruning end, 1 roots, 38 extra nodes, 0 pruned nodes, max_depth=5\u001b[0m\n",
      "\u001b[31m[20]#011train-error:0.184733#011validation-error:0.2051\u001b[0m\n",
      "\u001b[31m[02:07:35] src/tree/updater_prune.cc:74: tree pruning end, 1 roots, 20 extra nodes, 12 pruned nodes, max_depth=5\u001b[0m\n",
      "\u001b[31m[21]#011train-error:0.1824#011validation-error:0.2018\u001b[0m\n",
      "\u001b[31m[02:07:36] src/tree/updater_prune.cc:74: tree pruning end, 1 roots, 26 extra nodes, 8 pruned nodes, max_depth=5\u001b[0m\n",
      "\u001b[31m[22]#011train-error:0.180333#011validation-error:0.1996\u001b[0m\n",
      "\u001b[31m[02:07:38] src/tree/updater_prune.cc:74: tree pruning end, 1 roots, 14 extra nodes, 10 pruned nodes, max_depth=5\u001b[0m\n",
      "\u001b[31m[23]#011train-error:0.178933#011validation-error:0.1981\u001b[0m\n",
      "\u001b[31m[02:07:39] src/tree/updater_prune.cc:74: tree pruning end, 1 roots, 16 extra nodes, 12 pruned nodes, max_depth=5\u001b[0m\n",
      "\u001b[31m[24]#011train-error:0.177933#011validation-error:0.1965\u001b[0m\n",
      "\u001b[31m[02:07:40] src/tree/updater_prune.cc:74: tree pruning end, 1 roots, 30 extra nodes, 6 pruned nodes, max_depth=5\u001b[0m\n",
      "\u001b[31m[25]#011train-error:0.175067#011validation-error:0.1931\u001b[0m\n",
      "\u001b[31m[02:07:41] src/tree/updater_prune.cc:74: tree pruning end, 1 roots, 28 extra nodes, 6 pruned nodes, max_depth=5\u001b[0m\n",
      "\u001b[31m[26]#011train-error:0.1746#011validation-error:0.192\u001b[0m\n",
      "\u001b[31m[02:07:43] src/tree/updater_prune.cc:74: tree pruning end, 1 roots, 26 extra nodes, 10 pruned nodes, max_depth=5\u001b[0m\n",
      "\u001b[31m[27]#011train-error:0.171067#011validation-error:0.1912\u001b[0m\n",
      "\u001b[31m[02:07:44] src/tree/updater_prune.cc:74: tree pruning end, 1 roots, 24 extra nodes, 6 pruned nodes, max_depth=5\u001b[0m\n",
      "\u001b[31m[28]#011train-error:0.1714#011validation-error:0.1898\u001b[0m\n",
      "\u001b[31m[02:07:45] src/tree/updater_prune.cc:74: tree pruning end, 1 roots, 18 extra nodes, 14 pruned nodes, max_depth=5\u001b[0m\n",
      "\u001b[31m[29]#011train-error:0.168933#011validation-error:0.1881\u001b[0m\n",
      "\u001b[31m[02:07:46] src/tree/updater_prune.cc:74: tree pruning end, 1 roots, 34 extra nodes, 8 pruned nodes, max_depth=5\u001b[0m\n",
      "\u001b[31m[30]#011train-error:0.1668#011validation-error:0.1896\u001b[0m\n",
      "\u001b[31m[02:07:48] src/tree/updater_prune.cc:74: tree pruning end, 1 roots, 26 extra nodes, 8 pruned nodes, max_depth=5\u001b[0m\n",
      "\u001b[31m[31]#011train-error:0.166533#011validation-error:0.1895\u001b[0m\n",
      "\u001b[31m[02:07:49] src/tree/updater_prune.cc:74: tree pruning end, 1 roots, 28 extra nodes, 4 pruned nodes, max_depth=5\u001b[0m\n",
      "\u001b[31m[32]#011train-error:0.164333#011validation-error:0.1852\u001b[0m\n",
      "\u001b[31m[02:07:50] src/tree/updater_prune.cc:74: tree pruning end, 1 roots, 34 extra nodes, 10 pruned nodes, max_depth=5\u001b[0m\n",
      "\u001b[31m[33]#011train-error:0.1624#011validation-error:0.1841\u001b[0m\n",
      "\u001b[31m[02:07:51] src/tree/updater_prune.cc:74: tree pruning end, 1 roots, 28 extra nodes, 8 pruned nodes, max_depth=5\u001b[0m\n",
      "\u001b[31m[34]#011train-error:0.1606#011validation-error:0.1831\u001b[0m\n",
      "\u001b[31m[02:07:53] src/tree/updater_prune.cc:74: tree pruning end, 1 roots, 34 extra nodes, 10 pruned nodes, max_depth=5\u001b[0m\n",
      "\u001b[31m[35]#011train-error:0.158667#011validation-error:0.1813\u001b[0m\n",
      "\u001b[31m[02:07:54] src/tree/updater_prune.cc:74: tree pruning end, 1 roots, 38 extra nodes, 6 pruned nodes, max_depth=5\u001b[0m\n",
      "\u001b[31m[36]#011train-error:0.155667#011validation-error:0.1794\u001b[0m\n",
      "\u001b[31m[02:07:55] src/tree/updater_prune.cc:74: tree pruning end, 1 roots, 26 extra nodes, 8 pruned nodes, max_depth=5\u001b[0m\n",
      "\u001b[31m[37]#011train-error:0.154667#011validation-error:0.1771\u001b[0m\n",
      "\u001b[31m[02:07:56] src/tree/updater_prune.cc:74: tree pruning end, 1 roots, 18 extra nodes, 12 pruned nodes, max_depth=5\u001b[0m\n",
      "\u001b[31m[38]#011train-error:0.154733#011validation-error:0.1761\u001b[0m\n",
      "\u001b[31m[02:07:57] src/tree/updater_prune.cc:74: tree pruning end, 1 roots, 20 extra nodes, 12 pruned nodes, max_depth=5\u001b[0m\n",
      "\u001b[31m[39]#011train-error:0.1548#011validation-error:0.1775\u001b[0m\n"
     ]
    },
    {
     "name": "stdout",
     "output_type": "stream",
     "text": [
      "\u001b[31m[02:07:59] src/tree/updater_prune.cc:74: tree pruning end, 1 roots, 14 extra nodes, 10 pruned nodes, max_depth=5\u001b[0m\n",
      "\u001b[31m[40]#011train-error:0.153933#011validation-error:0.1769\u001b[0m\n",
      "\u001b[31m[02:08:00] src/tree/updater_prune.cc:74: tree pruning end, 1 roots, 26 extra nodes, 12 pruned nodes, max_depth=5\u001b[0m\n",
      "\u001b[31m[41]#011train-error:0.151933#011validation-error:0.1763\u001b[0m\n",
      "\u001b[31m[02:08:01] src/tree/updater_prune.cc:74: tree pruning end, 1 roots, 24 extra nodes, 10 pruned nodes, max_depth=5\u001b[0m\n",
      "\u001b[31m[42]#011train-error:0.151333#011validation-error:0.1744\u001b[0m\n",
      "\u001b[31m[02:08:03] src/tree/updater_prune.cc:74: tree pruning end, 1 roots, 22 extra nodes, 8 pruned nodes, max_depth=5\u001b[0m\n",
      "\u001b[31m[43]#011train-error:0.1498#011validation-error:0.1736\u001b[0m\n",
      "\u001b[31m[02:08:04] src/tree/updater_prune.cc:74: tree pruning end, 1 roots, 32 extra nodes, 6 pruned nodes, max_depth=5\u001b[0m\n",
      "\u001b[31m[44]#011train-error:0.147733#011validation-error:0.1727\u001b[0m\n",
      "\u001b[31m[02:08:05] src/tree/updater_prune.cc:74: tree pruning end, 1 roots, 30 extra nodes, 14 pruned nodes, max_depth=5\u001b[0m\n",
      "\u001b[31m[45]#011train-error:0.146533#011validation-error:0.1721\u001b[0m\n",
      "\u001b[31m[02:08:06] src/tree/updater_prune.cc:74: tree pruning end, 1 roots, 20 extra nodes, 6 pruned nodes, max_depth=5\u001b[0m\n",
      "\u001b[31m[46]#011train-error:0.145#011validation-error:0.1718\u001b[0m\n",
      "\u001b[31m[02:08:07] src/tree/updater_prune.cc:74: tree pruning end, 1 roots, 24 extra nodes, 12 pruned nodes, max_depth=5\u001b[0m\n",
      "\u001b[31m[47]#011train-error:0.144#011validation-error:0.1731\u001b[0m\n",
      "\u001b[31m[02:08:09] src/tree/updater_prune.cc:74: tree pruning end, 1 roots, 20 extra nodes, 14 pruned nodes, max_depth=5\u001b[0m\n",
      "\u001b[31m[48]#011train-error:0.142667#011validation-error:0.1723\u001b[0m\n",
      "\u001b[31m[02:08:10] src/tree/updater_prune.cc:74: tree pruning end, 1 roots, 18 extra nodes, 18 pruned nodes, max_depth=5\u001b[0m\n",
      "\u001b[31m[49]#011train-error:0.141133#011validation-error:0.1715\u001b[0m\n",
      "\u001b[31m[02:08:11] src/tree/updater_prune.cc:74: tree pruning end, 1 roots, 10 extra nodes, 10 pruned nodes, max_depth=5\u001b[0m\n",
      "\u001b[31m[50]#011train-error:0.140667#011validation-error:0.1715\u001b[0m\n",
      "\u001b[31m[02:08:12] src/tree/updater_prune.cc:74: tree pruning end, 1 roots, 20 extra nodes, 8 pruned nodes, max_depth=5\u001b[0m\n",
      "\u001b[31m[51]#011train-error:0.140467#011validation-error:0.1703\u001b[0m\n",
      "\u001b[31m[02:08:14] src/tree/updater_prune.cc:74: tree pruning end, 1 roots, 24 extra nodes, 10 pruned nodes, max_depth=5\u001b[0m\n",
      "\u001b[31m[52]#011train-error:0.139333#011validation-error:0.1709\u001b[0m\n",
      "\u001b[31m[02:08:15] src/tree/updater_prune.cc:74: tree pruning end, 1 roots, 22 extra nodes, 14 pruned nodes, max_depth=5\u001b[0m\n",
      "\u001b[31m[53]#011train-error:0.139267#011validation-error:0.1702\u001b[0m\n",
      "\u001b[31m[02:08:16] src/tree/updater_prune.cc:74: tree pruning end, 1 roots, 24 extra nodes, 10 pruned nodes, max_depth=5\u001b[0m\n",
      "\u001b[31m[54]#011train-error:0.138267#011validation-error:0.1689\u001b[0m\n",
      "\u001b[31m[02:08:17] src/tree/updater_prune.cc:74: tree pruning end, 1 roots, 22 extra nodes, 14 pruned nodes, max_depth=5\u001b[0m\n",
      "\u001b[31m[55]#011train-error:0.1378#011validation-error:0.1683\u001b[0m\n",
      "\u001b[31m[02:08:19] src/tree/updater_prune.cc:74: tree pruning end, 1 roots, 14 extra nodes, 14 pruned nodes, max_depth=5\u001b[0m\n",
      "\u001b[31m[56]#011train-error:0.137333#011validation-error:0.1681\u001b[0m\n",
      "\u001b[31m[02:08:20] src/tree/updater_prune.cc:74: tree pruning end, 1 roots, 14 extra nodes, 18 pruned nodes, max_depth=5\u001b[0m\n",
      "\u001b[31m[57]#011train-error:0.1362#011validation-error:0.1673\u001b[0m\n",
      "\u001b[31m[02:08:21] src/tree/updater_prune.cc:74: tree pruning end, 1 roots, 22 extra nodes, 8 pruned nodes, max_depth=5\u001b[0m\n",
      "\u001b[31m[58]#011train-error:0.135733#011validation-error:0.1665\u001b[0m\n",
      "\u001b[31m[02:08:22] src/tree/updater_prune.cc:74: tree pruning end, 1 roots, 20 extra nodes, 14 pruned nodes, max_depth=5\u001b[0m\n",
      "\u001b[31m[59]#011train-error:0.1352#011validation-error:0.1668\u001b[0m\n",
      "\u001b[31m[02:08:24] src/tree/updater_prune.cc:74: tree pruning end, 1 roots, 22 extra nodes, 10 pruned nodes, max_depth=5\u001b[0m\n",
      "\u001b[31m[60]#011train-error:0.133867#011validation-error:0.1649\u001b[0m\n",
      "\u001b[31m[02:08:25] src/tree/updater_prune.cc:74: tree pruning end, 1 roots, 14 extra nodes, 4 pruned nodes, max_depth=5\u001b[0m\n",
      "\u001b[31m[61]#011train-error:0.1326#011validation-error:0.1638\u001b[0m\n",
      "\u001b[31m[02:08:26] src/tree/updater_prune.cc:74: tree pruning end, 1 roots, 28 extra nodes, 8 pruned nodes, max_depth=5\u001b[0m\n",
      "\u001b[31m[62]#011train-error:0.1322#011validation-error:0.1632\u001b[0m\n",
      "\u001b[31m[02:08:27] src/tree/updater_prune.cc:74: tree pruning end, 1 roots, 12 extra nodes, 6 pruned nodes, max_depth=5\u001b[0m\n",
      "\u001b[31m[63]#011train-error:0.132#011validation-error:0.1618\u001b[0m\n",
      "\u001b[31m[02:08:29] src/tree/updater_prune.cc:74: tree pruning end, 1 roots, 24 extra nodes, 8 pruned nodes, max_depth=5\u001b[0m\n",
      "\u001b[31m[64]#011train-error:0.131#011validation-error:0.1596\u001b[0m\n",
      "\u001b[31m[02:08:30] src/tree/updater_prune.cc:74: tree pruning end, 1 roots, 12 extra nodes, 10 pruned nodes, max_depth=5\u001b[0m\n",
      "\u001b[31m[65]#011train-error:0.130667#011validation-error:0.1602\u001b[0m\n",
      "\u001b[31m[02:08:31] src/tree/updater_prune.cc:74: tree pruning end, 1 roots, 18 extra nodes, 8 pruned nodes, max_depth=5\u001b[0m\n",
      "\u001b[31m[66]#011train-error:0.1292#011validation-error:0.1609\u001b[0m\n",
      "\u001b[31m[02:08:32] src/tree/updater_prune.cc:74: tree pruning end, 1 roots, 26 extra nodes, 8 pruned nodes, max_depth=5\u001b[0m\n",
      "\u001b[31m[67]#011train-error:0.128#011validation-error:0.1601\u001b[0m\n",
      "\u001b[31m[02:08:34] src/tree/updater_prune.cc:74: tree pruning end, 1 roots, 12 extra nodes, 20 pruned nodes, max_depth=5\u001b[0m\n",
      "\u001b[31m[68]#011train-error:0.127733#011validation-error:0.16\u001b[0m\n",
      "\u001b[31m[02:08:35] src/tree/updater_prune.cc:74: tree pruning end, 1 roots, 12 extra nodes, 8 pruned nodes, max_depth=5\u001b[0m\n",
      "\u001b[31m[69]#011train-error:0.127#011validation-error:0.1593\u001b[0m\n",
      "\u001b[31m[02:08:36] src/tree/updater_prune.cc:74: tree pruning end, 1 roots, 16 extra nodes, 10 pruned nodes, max_depth=5\u001b[0m\n",
      "\u001b[31m[70]#011train-error:0.125133#011validation-error:0.1597\u001b[0m\n",
      "\u001b[31m[02:08:37] src/tree/updater_prune.cc:74: tree pruning end, 1 roots, 12 extra nodes, 4 pruned nodes, max_depth=5\u001b[0m\n",
      "\u001b[31m[71]#011train-error:0.124533#011validation-error:0.1591\u001b[0m\n",
      "\u001b[31m[02:08:39] src/tree/updater_prune.cc:74: tree pruning end, 1 roots, 22 extra nodes, 10 pruned nodes, max_depth=5\u001b[0m\n",
      "\u001b[31m[72]#011train-error:0.122867#011validation-error:0.1593\u001b[0m\n",
      "\u001b[31m[02:08:40] src/tree/updater_prune.cc:74: tree pruning end, 1 roots, 26 extra nodes, 12 pruned nodes, max_depth=5\u001b[0m\n",
      "\u001b[31m[73]#011train-error:0.1228#011validation-error:0.1589\u001b[0m\n",
      "\u001b[31m[02:08:41] src/tree/updater_prune.cc:74: tree pruning end, 1 roots, 20 extra nodes, 12 pruned nodes, max_depth=5\u001b[0m\n",
      "\u001b[31m[74]#011train-error:0.122#011validation-error:0.1575\u001b[0m\n",
      "\u001b[31m[02:08:42] src/tree/updater_prune.cc:74: tree pruning end, 1 roots, 10 extra nodes, 12 pruned nodes, max_depth=5\u001b[0m\n",
      "\u001b[31m[75]#011train-error:0.1216#011validation-error:0.157\u001b[0m\n",
      "\u001b[31m[02:08:44] src/tree/updater_prune.cc:74: tree pruning end, 1 roots, 30 extra nodes, 8 pruned nodes, max_depth=5\u001b[0m\n",
      "\u001b[31m[76]#011train-error:0.1212#011validation-error:0.1565\u001b[0m\n",
      "\u001b[31m[02:08:45] src/tree/updater_prune.cc:74: tree pruning end, 1 roots, 16 extra nodes, 6 pruned nodes, max_depth=5\u001b[0m\n",
      "\u001b[31m[77]#011train-error:0.1208#011validation-error:0.1559\u001b[0m\n",
      "\u001b[31m[02:08:46] src/tree/updater_prune.cc:74: tree pruning end, 1 roots, 18 extra nodes, 2 pruned nodes, max_depth=5\u001b[0m\n",
      "\u001b[31m[78]#011train-error:0.119933#011validation-error:0.1559\u001b[0m\n",
      "\u001b[31m[02:08:47] src/tree/updater_prune.cc:74: tree pruning end, 1 roots, 20 extra nodes, 8 pruned nodes, max_depth=5\u001b[0m\n",
      "\u001b[31m[79]#011train-error:0.118933#011validation-error:0.1561\u001b[0m\n",
      "\u001b[31m[02:08:49] src/tree/updater_prune.cc:74: tree pruning end, 1 roots, 12 extra nodes, 6 pruned nodes, max_depth=5\u001b[0m\n",
      "\u001b[31m[80]#011train-error:0.1186#011validation-error:0.1568\u001b[0m\n",
      "\u001b[31m[02:08:50] src/tree/updater_prune.cc:74: tree pruning end, 1 roots, 14 extra nodes, 2 pruned nodes, max_depth=5\u001b[0m\n",
      "\u001b[31m[81]#011train-error:0.118467#011validation-error:0.156\u001b[0m\n",
      "\u001b[31m[02:08:51] src/tree/updater_prune.cc:74: tree pruning end, 1 roots, 10 extra nodes, 6 pruned nodes, max_depth=5\u001b[0m\n",
      "\u001b[31m[82]#011train-error:0.117867#011validation-error:0.1551\u001b[0m\n",
      "\u001b[31m[02:08:52] src/tree/updater_prune.cc:74: tree pruning end, 1 roots, 20 extra nodes, 10 pruned nodes, max_depth=5\u001b[0m\n",
      "\u001b[31m[83]#011train-error:0.1174#011validation-error:0.1545\u001b[0m\n",
      "\u001b[31m[02:08:54] src/tree/updater_prune.cc:74: tree pruning end, 1 roots, 22 extra nodes, 10 pruned nodes, max_depth=5\u001b[0m\n"
     ]
    },
    {
     "name": "stdout",
     "output_type": "stream",
     "text": [
      "\u001b[31m[84]#011train-error:0.116933#011validation-error:0.1543\u001b[0m\n",
      "\u001b[31m[02:08:55] src/tree/updater_prune.cc:74: tree pruning end, 1 roots, 16 extra nodes, 18 pruned nodes, max_depth=5\u001b[0m\n",
      "\u001b[31m[85]#011train-error:0.116733#011validation-error:0.1536\u001b[0m\n",
      "\u001b[31m[02:08:56] src/tree/updater_prune.cc:74: tree pruning end, 1 roots, 14 extra nodes, 10 pruned nodes, max_depth=5\u001b[0m\n",
      "\u001b[31m[86]#011train-error:0.116267#011validation-error:0.1527\u001b[0m\n",
      "\u001b[31m[02:08:57] src/tree/updater_prune.cc:74: tree pruning end, 1 roots, 18 extra nodes, 10 pruned nodes, max_depth=5\u001b[0m\n",
      "\u001b[31m[87]#011train-error:0.115867#011validation-error:0.1516\u001b[0m\n",
      "\u001b[31m[02:08:59] src/tree/updater_prune.cc:74: tree pruning end, 1 roots, 20 extra nodes, 4 pruned nodes, max_depth=5\u001b[0m\n",
      "\u001b[31m[88]#011train-error:0.114933#011validation-error:0.1518\u001b[0m\n",
      "\u001b[31m[02:09:00] src/tree/updater_prune.cc:74: tree pruning end, 1 roots, 18 extra nodes, 14 pruned nodes, max_depth=5\u001b[0m\n",
      "\u001b[31m[89]#011train-error:0.114733#011validation-error:0.152\u001b[0m\n",
      "\u001b[31m[02:09:01] src/tree/updater_prune.cc:74: tree pruning end, 1 roots, 14 extra nodes, 8 pruned nodes, max_depth=5\u001b[0m\n",
      "\u001b[31m[90]#011train-error:0.1136#011validation-error:0.1504\u001b[0m\n",
      "\u001b[31m[02:09:02] src/tree/updater_prune.cc:74: tree pruning end, 1 roots, 26 extra nodes, 2 pruned nodes, max_depth=5\u001b[0m\n",
      "\u001b[31m[91]#011train-error:0.112733#011validation-error:0.1502\u001b[0m\n",
      "\u001b[31m[02:09:04] src/tree/updater_prune.cc:74: tree pruning end, 1 roots, 14 extra nodes, 12 pruned nodes, max_depth=5\u001b[0m\n",
      "\u001b[31m[92]#011train-error:0.1126#011validation-error:0.1496\u001b[0m\n",
      "\u001b[31m[02:09:05] src/tree/updater_prune.cc:74: tree pruning end, 1 roots, 20 extra nodes, 6 pruned nodes, max_depth=5\u001b[0m\n",
      "\u001b[31m[93]#011train-error:0.112667#011validation-error:0.1502\u001b[0m\n",
      "\u001b[31m[02:09:06] src/tree/updater_prune.cc:74: tree pruning end, 1 roots, 26 extra nodes, 8 pruned nodes, max_depth=5\u001b[0m\n",
      "\u001b[31m[94]#011train-error:0.111667#011validation-error:0.1502\u001b[0m\n",
      "\u001b[31m[02:09:07] src/tree/updater_prune.cc:74: tree pruning end, 1 roots, 22 extra nodes, 18 pruned nodes, max_depth=5\u001b[0m\n",
      "\u001b[31m[95]#011train-error:0.111467#011validation-error:0.1494\u001b[0m\n",
      "\u001b[31m[02:09:09] src/tree/updater_prune.cc:74: tree pruning end, 1 roots, 18 extra nodes, 6 pruned nodes, max_depth=5\u001b[0m\n",
      "\u001b[31m[96]#011train-error:0.110733#011validation-error:0.1483\u001b[0m\n",
      "\u001b[31m[02:09:10] src/tree/updater_prune.cc:74: tree pruning end, 1 roots, 14 extra nodes, 4 pruned nodes, max_depth=5\u001b[0m\n",
      "\u001b[31m[97]#011train-error:0.110133#011validation-error:0.1477\u001b[0m\n",
      "\u001b[31m[02:09:11] src/tree/updater_prune.cc:74: tree pruning end, 1 roots, 20 extra nodes, 10 pruned nodes, max_depth=5\u001b[0m\n",
      "\u001b[31m[98]#011train-error:0.1088#011validation-error:0.1481\u001b[0m\n",
      "\u001b[31m[02:09:12] src/tree/updater_prune.cc:74: tree pruning end, 1 roots, 14 extra nodes, 4 pruned nodes, max_depth=5\u001b[0m\n",
      "\u001b[31m[99]#011train-error:0.107933#011validation-error:0.1489\u001b[0m\n",
      "\u001b[31m[02:09:14] src/tree/updater_prune.cc:74: tree pruning end, 1 roots, 10 extra nodes, 4 pruned nodes, max_depth=5\u001b[0m\n",
      "\u001b[31m[100]#011train-error:0.107933#011validation-error:0.149\u001b[0m\n",
      "\u001b[31m[02:09:15] src/tree/updater_prune.cc:74: tree pruning end, 1 roots, 14 extra nodes, 8 pruned nodes, max_depth=5\u001b[0m\n",
      "\u001b[31m[101]#011train-error:0.107867#011validation-error:0.1488\u001b[0m\n",
      "\u001b[31m[02:09:16] src/tree/updater_prune.cc:74: tree pruning end, 1 roots, 10 extra nodes, 2 pruned nodes, max_depth=5\u001b[0m\n",
      "\u001b[31m[102]#011train-error:0.107#011validation-error:0.1491\u001b[0m\n",
      "\u001b[31m[02:09:17] src/tree/updater_prune.cc:74: tree pruning end, 1 roots, 22 extra nodes, 10 pruned nodes, max_depth=5\u001b[0m\n",
      "\u001b[31m[103]#011train-error:0.106133#011validation-error:0.1484\u001b[0m\n",
      "\u001b[31m[02:09:19] src/tree/updater_prune.cc:74: tree pruning end, 1 roots, 22 extra nodes, 12 pruned nodes, max_depth=5\u001b[0m\n",
      "\u001b[31m[104]#011train-error:0.1052#011validation-error:0.1483\u001b[0m\n",
      "\u001b[31m[02:09:20] src/tree/updater_prune.cc:74: tree pruning end, 1 roots, 18 extra nodes, 10 pruned nodes, max_depth=5\u001b[0m\n",
      "\u001b[31m[105]#011train-error:0.1054#011validation-error:0.148\u001b[0m\n",
      "\u001b[31m[02:09:21] src/tree/updater_prune.cc:74: tree pruning end, 1 roots, 18 extra nodes, 8 pruned nodes, max_depth=5\u001b[0m\n",
      "\u001b[31m[106]#011train-error:0.104933#011validation-error:0.1474\u001b[0m\n",
      "\u001b[31m[02:09:22] src/tree/updater_prune.cc:74: tree pruning end, 1 roots, 16 extra nodes, 2 pruned nodes, max_depth=5\u001b[0m\n",
      "\u001b[31m[107]#011train-error:0.104467#011validation-error:0.1472\u001b[0m\n",
      "\u001b[31m[02:09:24] src/tree/updater_prune.cc:74: tree pruning end, 1 roots, 10 extra nodes, 4 pruned nodes, max_depth=5\u001b[0m\n",
      "\u001b[31m[108]#011train-error:0.104133#011validation-error:0.146\u001b[0m\n",
      "\u001b[31m[02:09:25] src/tree/updater_prune.cc:74: tree pruning end, 1 roots, 22 extra nodes, 6 pruned nodes, max_depth=5\u001b[0m\n",
      "\u001b[31m[109]#011train-error:0.103867#011validation-error:0.146\u001b[0m\n",
      "\u001b[31m[02:09:26] src/tree/updater_prune.cc:74: tree pruning end, 1 roots, 12 extra nodes, 4 pruned nodes, max_depth=5\u001b[0m\n",
      "\u001b[31m[110]#011train-error:0.103667#011validation-error:0.146\u001b[0m\n",
      "\u001b[31m[02:09:27] src/tree/updater_prune.cc:74: tree pruning end, 1 roots, 18 extra nodes, 8 pruned nodes, max_depth=5\u001b[0m\n",
      "\u001b[31m[111]#011train-error:0.103333#011validation-error:0.1451\u001b[0m\n",
      "\u001b[31m[02:09:29] src/tree/updater_prune.cc:74: tree pruning end, 1 roots, 10 extra nodes, 10 pruned nodes, max_depth=5\u001b[0m\n",
      "\u001b[31m[112]#011train-error:0.103067#011validation-error:0.1451\u001b[0m\n",
      "\u001b[31m[02:09:30] src/tree/updater_prune.cc:74: tree pruning end, 1 roots, 14 extra nodes, 4 pruned nodes, max_depth=5\u001b[0m\n",
      "\u001b[31m[113]#011train-error:0.102867#011validation-error:0.1458\u001b[0m\n",
      "\u001b[31m[02:09:31] src/tree/updater_prune.cc:74: tree pruning end, 1 roots, 10 extra nodes, 6 pruned nodes, max_depth=5\u001b[0m\n",
      "\u001b[31m[114]#011train-error:0.102667#011validation-error:0.1461\u001b[0m\n",
      "\u001b[31m[02:09:32] src/tree/updater_prune.cc:74: tree pruning end, 1 roots, 14 extra nodes, 12 pruned nodes, max_depth=5\u001b[0m\n",
      "\u001b[31m[115]#011train-error:0.1024#011validation-error:0.1462\u001b[0m\n",
      "\u001b[31m[02:09:34] src/tree/updater_prune.cc:74: tree pruning end, 1 roots, 20 extra nodes, 10 pruned nodes, max_depth=5\u001b[0m\n",
      "\u001b[31m[116]#011train-error:0.102#011validation-error:0.1464\u001b[0m\n",
      "\u001b[31m[02:09:35] src/tree/updater_prune.cc:74: tree pruning end, 1 roots, 18 extra nodes, 6 pruned nodes, max_depth=5\u001b[0m\n",
      "\u001b[31m[117]#011train-error:0.1014#011validation-error:0.1458\u001b[0m\n",
      "\u001b[31m[02:09:36] src/tree/updater_prune.cc:74: tree pruning end, 1 roots, 20 extra nodes, 2 pruned nodes, max_depth=5\u001b[0m\n",
      "\u001b[31m[118]#011train-error:0.1012#011validation-error:0.1461\u001b[0m\n",
      "\u001b[31m[02:09:37] src/tree/updater_prune.cc:74: tree pruning end, 1 roots, 14 extra nodes, 10 pruned nodes, max_depth=5\u001b[0m\n",
      "\u001b[31m[119]#011train-error:0.1012#011validation-error:0.1459\u001b[0m\n",
      "\u001b[31m[02:09:39] src/tree/updater_prune.cc:74: tree pruning end, 1 roots, 14 extra nodes, 4 pruned nodes, max_depth=5\u001b[0m\n",
      "\u001b[31m[120]#011train-error:0.100533#011validation-error:0.1461\u001b[0m\n",
      "\u001b[31m[02:09:40] src/tree/updater_prune.cc:74: tree pruning end, 1 roots, 20 extra nodes, 10 pruned nodes, max_depth=5\u001b[0m\n",
      "\u001b[31m[121]#011train-error:0.099467#011validation-error:0.1465\u001b[0m\n",
      "\u001b[31mStopping. Best iteration:\u001b[0m\n",
      "\u001b[31m[111]#011train-error:0.103333#011validation-error:0.1451\n",
      "\u001b[0m\n",
      "\n",
      "2019-09-26 02:09:51 Uploading - Uploading generated training model\n",
      "2019-09-26 02:09:51 Completed - Training job completed\n",
      "Training seconds: 225\n",
      "Billable seconds: 225\n"
     ]
    }
   ],
   "source": [
    "xgb.fit({'train': s3_input_train, 'validation': s3_input_validation})"
   ]
  },
  {
   "cell_type": "markdown",
   "metadata": {},
   "source": [
    "### (TODO) Testing the model\n",
    "\n",
    "Now that we've fit our XGBoost model, it's time to see how well it performs. To do this we will use SageMakers Batch Transform functionality. Batch Transform is a convenient way to perform inference on a large dataset in a way that is not realtime. That is, we don't necessarily need to use our model's results immediately and instead we can peform inference on a large number of samples. An example of this in industry might be peforming an end of month report. This method of inference can also be useful to us as it means to can perform inference on our entire test set. \n",
    "\n",
    "To perform a Batch Transformation we need to first create a transformer objects from our trained estimator object."
   ]
  },
  {
   "cell_type": "code",
   "execution_count": 30,
   "metadata": {},
   "outputs": [],
   "source": [
    "# TODO: Create a transformer object from the trained model. Using an instance count of 1 and an instance type of ml.m4.xlarge\n",
    "#       should be more than enough.\n",
    "xgb_transformer = xgb.transformer(instance_count=1, instance_type='ml.m4.xlarge')\n",
    "\n",
    "\n"
   ]
  },
  {
   "cell_type": "markdown",
   "metadata": {},
   "source": [
    "Next we actually perform the transform job. When doing so we need to make sure to specify the type of data we are sending so that it is serialized correctly in the background. In our case we are providing our model with csv data so we specify `text/csv`. Also, if the test data that we have provided is too large to process all at once then we need to specify how the data file should be split up. Since each line is a single entry in our data set we tell SageMaker that it can split the input on each line."
   ]
  },
  {
   "cell_type": "code",
   "execution_count": 31,
   "metadata": {},
   "outputs": [],
   "source": [
    "# TODO: Start the transform job. Make sure to specify the content type and the split type of the test data.\n",
    "xgb_transformer.transform(test_location, content_type='text/csv', split_type='Line')"
   ]
  },
  {
   "cell_type": "markdown",
   "metadata": {},
   "source": [
    "Currently the transform job is running but it is doing so in the background. Since we wish to wait until the transform job is done and we would like a bit of feedback we can run the `wait()` method."
   ]
  },
  {
   "cell_type": "code",
   "execution_count": 32,
   "metadata": {},
   "outputs": [
    {
     "name": "stdout",
     "output_type": "stream",
     "text": [
      "....................\u001b[31mArguments: serve\u001b[0m\n",
      "\u001b[31m[2019-09-26 02:18:25 +0000] [1] [INFO] Starting gunicorn 19.7.1\u001b[0m\n",
      "\u001b[31m[2019-09-26 02:18:25 +0000] [1] [INFO] Listening at: http://0.0.0.0:8080 (1)\u001b[0m\n",
      "\u001b[31m[2019-09-26 02:18:25 +0000] [1] [INFO] Using worker: gevent\u001b[0m\n",
      "\u001b[31m[2019-09-26 02:18:25 +0000] [38] [INFO] Booting worker with pid: 38\u001b[0m\n",
      "\u001b[31m[2019-09-26 02:18:26 +0000] [39] [INFO] Booting worker with pid: 39\u001b[0m\n",
      "\u001b[31m[2019-09-26 02:18:26 +0000] [40] [INFO] Booting worker with pid: 40\u001b[0m\n",
      "\u001b[31m[2019-09-26:02:18:26:INFO] Model loaded successfully for worker : 39\u001b[0m\n",
      "\u001b[31m[2019-09-26 02:18:26 +0000] [41] [INFO] Booting worker with pid: 41\u001b[0m\n",
      "\u001b[31m[2019-09-26:02:18:26:INFO] Model loaded successfully for worker : 38\u001b[0m\n",
      "\u001b[31m[2019-09-26:02:18:26:INFO] Model loaded successfully for worker : 41\u001b[0m\n",
      "\u001b[31m[2019-09-26:02:18:26:INFO] Model loaded successfully for worker : 40\u001b[0m\n",
      "\u001b[31m[2019-09-26:02:18:48:INFO] Sniff delimiter as ','\u001b[0m\n",
      "\u001b[31m[2019-09-26:02:18:48:INFO] Determined delimiter of CSV input is ','\u001b[0m\n",
      "\u001b[31m[2019-09-26:02:18:48:INFO] Sniff delimiter as ','\u001b[0m\n",
      "\u001b[31m[2019-09-26:02:18:48:INFO] Determined delimiter of CSV input is ','\u001b[0m\n",
      "\u001b[31m[2019-09-26:02:18:48:INFO] Sniff delimiter as ','\u001b[0m\n",
      "\u001b[31m[2019-09-26:02:18:48:INFO] Determined delimiter of CSV input is ','\u001b[0m\n",
      "\u001b[31m[2019-09-26:02:18:49:INFO] Sniff delimiter as ','\u001b[0m\n",
      "\u001b[31m[2019-09-26:02:18:49:INFO] Determined delimiter of CSV input is ','\u001b[0m\n",
      "\u001b[31m[2019-09-26:02:18:51:INFO] Sniff delimiter as ','\u001b[0m\n",
      "\u001b[31m[2019-09-26:02:18:51:INFO] Determined delimiter of CSV input is ','\u001b[0m\n",
      "\u001b[31m[2019-09-26:02:18:51:INFO] Sniff delimiter as ','\u001b[0m\n",
      "\u001b[31m[2019-09-26:02:18:51:INFO] Determined delimiter of CSV input is ','\u001b[0m\n",
      "\u001b[31m[2019-09-26:02:18:51:INFO] Sniff delimiter as ','\u001b[0m\n",
      "\u001b[31m[2019-09-26:02:18:51:INFO] Determined delimiter of CSV input is ','\u001b[0m\n",
      "\u001b[31m[2019-09-26:02:18:51:INFO] Sniff delimiter as ','\u001b[0m\n",
      "\u001b[31m[2019-09-26:02:18:51:INFO] Determined delimiter of CSV input is ','\u001b[0m\n",
      "\u001b[31m[2019-09-26:02:18:53:INFO] Sniff delimiter as ','\u001b[0m\n",
      "\u001b[31m[2019-09-26:02:18:53:INFO] Determined delimiter of CSV input is ','\u001b[0m\n",
      "\u001b[31m[2019-09-26:02:18:53:INFO] Sniff delimiter as ','\u001b[0m\n",
      "\u001b[31m[2019-09-26:02:18:53:INFO] Determined delimiter of CSV input is ','\u001b[0m\n",
      "\u001b[31m[2019-09-26:02:18:53:INFO] Sniff delimiter as ','\u001b[0m\n",
      "\u001b[31m[2019-09-26:02:18:53:INFO] Determined delimiter of CSV input is ','\u001b[0m\n",
      "\u001b[31m[2019-09-26:02:18:54:INFO] Sniff delimiter as ','\u001b[0m\n",
      "\u001b[31m[2019-09-26:02:18:54:INFO] Determined delimiter of CSV input is ','\u001b[0m\n",
      "\u001b[31m[2019-09-26:02:18:55:INFO] Sniff delimiter as ','\u001b[0m\n",
      "\u001b[31m[2019-09-26:02:18:55:INFO] Determined delimiter of CSV input is ','\u001b[0m\n",
      "\u001b[31m[2019-09-26:02:18:56:INFO] Sniff delimiter as ','\u001b[0m\n",
      "\u001b[31m[2019-09-26:02:18:56:INFO] Determined delimiter of CSV input is ','\u001b[0m\n",
      "\u001b[31m[2019-09-26:02:18:56:INFO] Sniff delimiter as ','\u001b[0m\n",
      "\u001b[31m[2019-09-26:02:18:56:INFO] Determined delimiter of CSV input is ','\u001b[0m\n",
      "\u001b[31m[2019-09-26:02:18:56:INFO] Sniff delimiter as ','\u001b[0m\n",
      "\u001b[31m[2019-09-26:02:18:56:INFO] Determined delimiter of CSV input is ','\u001b[0m\n",
      "\u001b[31m[2019-09-26:02:18:58:INFO] Sniff delimiter as ','\u001b[0m\n",
      "\u001b[31m[2019-09-26:02:18:58:INFO] Determined delimiter of CSV input is ','\u001b[0m\n",
      "\u001b[31m[2019-09-26:02:18:58:INFO] Sniff delimiter as ','\u001b[0m\n",
      "\u001b[31m[2019-09-26:02:18:58:INFO] Determined delimiter of CSV input is ','\u001b[0m\n",
      "\u001b[31m[2019-09-26:02:18:58:INFO] Sniff delimiter as ','\u001b[0m\n",
      "\u001b[31m[2019-09-26:02:18:58:INFO] Determined delimiter of CSV input is ','\u001b[0m\n",
      "\u001b[31m[2019-09-26:02:18:58:INFO] Sniff delimiter as ','\u001b[0m\n",
      "\u001b[31m[2019-09-26:02:18:58:INFO] Determined delimiter of CSV input is ','\u001b[0m\n",
      "\u001b[31m[2019-09-26:02:19:00:INFO] Sniff delimiter as ','\u001b[0m\n",
      "\u001b[31m[2019-09-26:02:19:00:INFO] Determined delimiter of CSV input is ','\u001b[0m\n",
      "\u001b[31m[2019-09-26:02:19:00:INFO] Sniff delimiter as ','\u001b[0m\n",
      "\u001b[31m[2019-09-26:02:19:00:INFO] Determined delimiter of CSV input is ','\u001b[0m\n",
      "\u001b[31m[2019-09-26:02:19:00:INFO] Sniff delimiter as ','\u001b[0m\n",
      "\u001b[31m[2019-09-26:02:19:00:INFO] Determined delimiter of CSV input is ','\u001b[0m\n",
      "\u001b[31m[2019-09-26:02:19:01:INFO] Sniff delimiter as ','\u001b[0m\n",
      "\u001b[31m[2019-09-26:02:19:01:INFO] Determined delimiter of CSV input is ','\u001b[0m\n",
      "\u001b[31m[2019-09-26:02:19:03:INFO] Sniff delimiter as ','\u001b[0m\n",
      "\u001b[31m[2019-09-26:02:19:03:INFO] Determined delimiter of CSV input is ','\u001b[0m\n",
      "\u001b[31m[2019-09-26:02:19:03:INFO] Sniff delimiter as ','\u001b[0m\n",
      "\u001b[31m[2019-09-26:02:19:03:INFO] Determined delimiter of CSV input is ','\u001b[0m\n",
      "\u001b[31m[2019-09-26:02:19:03:INFO] Sniff delimiter as ','\u001b[0m\n",
      "\u001b[31m[2019-09-26:02:19:03:INFO] Determined delimiter of CSV input is ','\u001b[0m\n",
      "\u001b[31m[2019-09-26:02:19:03:INFO] Sniff delimiter as ','\u001b[0m\n",
      "\u001b[31m[2019-09-26:02:19:03:INFO] Determined delimiter of CSV input is ','\u001b[0m\n",
      "\u001b[31m[2019-09-26:02:19:05:INFO] Sniff delimiter as ','\u001b[0m\n",
      "\u001b[31m[2019-09-26:02:19:05:INFO] Determined delimiter of CSV input is ','\u001b[0m\n",
      "\u001b[31m[2019-09-26:02:19:05:INFO] Sniff delimiter as ','\u001b[0m\n",
      "\u001b[31m[2019-09-26:02:19:05:INFO] Determined delimiter of CSV input is ','\u001b[0m\n",
      "\u001b[31m[2019-09-26:02:19:05:INFO] Sniff delimiter as ','\u001b[0m\n",
      "\u001b[31m[2019-09-26:02:19:05:INFO] Determined delimiter of CSV input is ','\u001b[0m\n",
      "\u001b[31m[2019-09-26:02:19:06:INFO] Sniff delimiter as ','\u001b[0m\n",
      "\u001b[31m[2019-09-26:02:19:06:INFO] Determined delimiter of CSV input is ','\u001b[0m\n",
      "\u001b[31m[2019-09-26:02:19:07:INFO] Sniff delimiter as ','\u001b[0m\n",
      "\u001b[31m[2019-09-26:02:19:07:INFO] Determined delimiter of CSV input is ','\u001b[0m\n",
      "\u001b[31m[2019-09-26:02:19:08:INFO] Sniff delimiter as ','\u001b[0m\n",
      "\u001b[31m[2019-09-26:02:19:08:INFO] Determined delimiter of CSV input is ','\u001b[0m\n",
      "\n",
      "\u001b[31m[2019-09-26:02:19:08:INFO] Sniff delimiter as ','\u001b[0m\n",
      "\u001b[31m[2019-09-26:02:19:08:INFO] Determined delimiter of CSV input is ','\u001b[0m\n",
      "\u001b[31m[2019-09-26:02:19:08:INFO] Sniff delimiter as ','\u001b[0m\n",
      "\u001b[31m[2019-09-26:02:19:08:INFO] Determined delimiter of CSV input is ','\u001b[0m\n",
      "\u001b[31m[2019-09-26:02:19:10:INFO] Sniff delimiter as ','\u001b[0m\n",
      "\u001b[31m[2019-09-26:02:19:10:INFO] Determined delimiter of CSV input is ','\u001b[0m\n",
      "\u001b[31m[2019-09-26:02:19:10:INFO] Sniff delimiter as ','\u001b[0m\n",
      "\u001b[31m[2019-09-26:02:19:10:INFO] Determined delimiter of CSV input is ','\u001b[0m\n",
      "\u001b[31m[2019-09-26:02:19:10:INFO] Sniff delimiter as ','\u001b[0m\n",
      "\u001b[31m[2019-09-26:02:19:10:INFO] Determined delimiter of CSV input is ','\u001b[0m\n",
      "\u001b[31m[2019-09-26:02:19:11:INFO] Sniff delimiter as ','\u001b[0m\n",
      "\u001b[31m[2019-09-26:02:19:11:INFO] Determined delimiter of CSV input is ','\u001b[0m\n"
     ]
    }
   ],
   "source": [
    "xgb_transformer.wait()"
   ]
  },
  {
   "cell_type": "markdown",
   "metadata": {},
   "source": [
    "Now the transform job has executed and the result, the estimated sentiment of each review, has been saved on S3. Since we would rather work on this file locally we can perform a bit of notebook magic to copy the file to the `data_dir`."
   ]
  },
  {
   "cell_type": "code",
   "execution_count": 33,
   "metadata": {},
   "outputs": [
    {
     "name": "stdout",
     "output_type": "stream",
     "text": [
      "Completed 256.0 KiB/368.9 KiB (2.6 MiB/s) with 1 file(s) remaining\r",
      "Completed 368.9 KiB/368.9 KiB (3.7 MiB/s) with 1 file(s) remaining\r",
      "download: s3://sagemaker-us-west-1-364651546206/xgboost-2019-09-26-02-15-16-703/test.csv.out to ../data/xgboost/test.csv.out\r\n"
     ]
    }
   ],
   "source": [
    "!aws s3 cp --recursive $xgb_transformer.output_path $data_dir"
   ]
  },
  {
   "cell_type": "markdown",
   "metadata": {},
   "source": [
    "The last step is now to read in the output from our model, convert the output to something a little more usable, in this case we want the sentiment to be either `1` (positive) or `0` (negative), and then compare to the ground truth labels."
   ]
  },
  {
   "cell_type": "code",
   "execution_count": 34,
   "metadata": {},
   "outputs": [],
   "source": [
    "predictions = pd.read_csv(os.path.join(data_dir, 'test.csv.out'), header=None)\n",
    "predictions = [round(num) for num in predictions.squeeze().values]"
   ]
  },
  {
   "cell_type": "code",
   "execution_count": 35,
   "metadata": {},
   "outputs": [
    {
     "data": {
      "text/plain": [
       "0.8542"
      ]
     },
     "execution_count": 35,
     "metadata": {},
     "output_type": "execute_result"
    }
   ],
   "source": [
    "from sklearn.metrics import accuracy_score\n",
    "accuracy_score(test_y, predictions)"
   ]
  },
  {
   "cell_type": "markdown",
   "metadata": {},
   "source": [
    "## Optional: Clean up\n",
    "\n",
    "The default notebook instance on SageMaker doesn't have a lot of excess disk space available. As you continue to complete and execute notebooks you will eventually fill up this disk space, leading to errors which can be difficult to diagnose. Once you are completely finished using a notebook it is a good idea to remove the files that you created along the way. Of course, you can do this from the terminal or from the notebook hub if you would like. The cell below contains some commands to clean up the created files from within the notebook."
   ]
  },
  {
   "cell_type": "code",
   "execution_count": 36,
   "metadata": {},
   "outputs": [],
   "source": [
    "# First we will remove all of the files contained in the data_dir directory\n",
    "!rm $data_dir/*\n",
    "\n",
    "# And then we delete the directory itself\n",
    "!rmdir $data_dir\n",
    "\n",
    "# Similarly we will remove the files in the cache_dir directory and the directory itself\n",
    "!rm $cache_dir/*\n",
    "!rmdir $cache_dir"
   ]
  },
  {
   "cell_type": "code",
   "execution_count": null,
   "metadata": {},
   "outputs": [],
   "source": []
  }
 ],
 "metadata": {
  "kernelspec": {
   "display_name": "conda_python3",
   "language": "python",
   "name": "conda_python3"
  },
  "language_info": {
   "codemirror_mode": {
    "name": "ipython",
    "version": 3
   },
   "file_extension": ".py",
   "mimetype": "text/x-python",
   "name": "python",
   "nbconvert_exporter": "python",
   "pygments_lexer": "ipython3",
   "version": "3.6.5"
  }
 },
 "nbformat": 4,
 "nbformat_minor": 2
}
